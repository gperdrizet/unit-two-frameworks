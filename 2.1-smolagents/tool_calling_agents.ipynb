{
 "cells": [
  {
   "cell_type": "markdown",
   "metadata": {
    "id": "Pi9CF0391ARI"
   },
   "source": [
    "# Writing actions as code snippets or JSON blobs\n",
    "\n",
    "This notebook is part of the [Hugging Face Agents Course](https://www.hf.co/learn/agents-course), a free Course from beginner to expert, where you learn to build Agents.\n",
    "\n",
    "![Agents course share](https://huggingface.co/datasets/agents-course/course-images/resolve/main/en/communication/share.png)"
   ]
  },
  {
   "cell_type": "markdown",
   "metadata": {
    "id": "9gsYky7F1GzT"
   },
   "source": [
    "## Let's install the dependencies and login to our HF account to access the Inference API\n",
    "\n",
    "If you haven't installed `smolagents` yet, you can do so by running the following command:"
   ]
  },
  {
   "cell_type": "code",
   "execution_count": 1,
   "metadata": {
    "id": "MoFopncp0pnJ"
   },
   "outputs": [
    {
     "name": "stdout",
     "output_type": "stream",
     "text": [
      "Looking in indexes: https://pypi.org/simple, https://pypi.ngc.nvidia.com\n",
      "Requirement already satisfied: smolagents in /mnt/arkk/hf-agents-course/unit-two-frameworks/.venv/lib/python3.10/site-packages (1.18.0)\n",
      "Requirement already satisfied: huggingface-hub>=0.31.2 in /mnt/arkk/hf-agents-course/unit-two-frameworks/.venv/lib/python3.10/site-packages (from smolagents) (0.33.0)\n",
      "Requirement already satisfied: requests>=2.32.3 in /mnt/arkk/hf-agents-course/unit-two-frameworks/.venv/lib/python3.10/site-packages (from smolagents) (2.32.4)\n",
      "Requirement already satisfied: rich>=13.9.4 in /mnt/arkk/hf-agents-course/unit-two-frameworks/.venv/lib/python3.10/site-packages (from smolagents) (14.0.0)\n",
      "Requirement already satisfied: jinja2>=3.1.4 in /mnt/arkk/hf-agents-course/unit-two-frameworks/.venv/lib/python3.10/site-packages (from smolagents) (3.1.6)\n",
      "Requirement already satisfied: pillow>=10.0.1 in /mnt/arkk/hf-agents-course/unit-two-frameworks/.venv/lib/python3.10/site-packages (from smolagents) (11.2.1)\n",
      "Requirement already satisfied: python-dotenv in /mnt/arkk/hf-agents-course/unit-two-frameworks/.venv/lib/python3.10/site-packages (from smolagents) (1.1.0)\n",
      "Requirement already satisfied: filelock in /mnt/arkk/hf-agents-course/unit-two-frameworks/.venv/lib/python3.10/site-packages (from huggingface-hub>=0.31.2->smolagents) (3.18.0)\n",
      "Requirement already satisfied: fsspec>=2023.5.0 in /mnt/arkk/hf-agents-course/unit-two-frameworks/.venv/lib/python3.10/site-packages (from huggingface-hub>=0.31.2->smolagents) (2025.5.1)\n",
      "Requirement already satisfied: packaging>=20.9 in /mnt/arkk/hf-agents-course/unit-two-frameworks/.venv/lib/python3.10/site-packages (from huggingface-hub>=0.31.2->smolagents) (25.0)\n",
      "Requirement already satisfied: pyyaml>=5.1 in /mnt/arkk/hf-agents-course/unit-two-frameworks/.venv/lib/python3.10/site-packages (from huggingface-hub>=0.31.2->smolagents) (6.0.2)\n",
      "Requirement already satisfied: tqdm>=4.42.1 in /mnt/arkk/hf-agents-course/unit-two-frameworks/.venv/lib/python3.10/site-packages (from huggingface-hub>=0.31.2->smolagents) (4.67.1)\n",
      "Requirement already satisfied: typing-extensions>=3.7.4.3 in /mnt/arkk/hf-agents-course/unit-two-frameworks/.venv/lib/python3.10/site-packages (from huggingface-hub>=0.31.2->smolagents) (4.14.0)\n",
      "Requirement already satisfied: hf-xet<2.0.0,>=1.1.2 in /mnt/arkk/hf-agents-course/unit-two-frameworks/.venv/lib/python3.10/site-packages (from huggingface-hub>=0.31.2->smolagents) (1.1.5)\n",
      "Requirement already satisfied: MarkupSafe>=2.0 in /mnt/arkk/hf-agents-course/unit-two-frameworks/.venv/lib/python3.10/site-packages (from jinja2>=3.1.4->smolagents) (3.0.2)\n",
      "Requirement already satisfied: charset_normalizer<4,>=2 in /mnt/arkk/hf-agents-course/unit-two-frameworks/.venv/lib/python3.10/site-packages (from requests>=2.32.3->smolagents) (3.4.2)\n",
      "Requirement already satisfied: idna<4,>=2.5 in /mnt/arkk/hf-agents-course/unit-two-frameworks/.venv/lib/python3.10/site-packages (from requests>=2.32.3->smolagents) (3.10)\n",
      "Requirement already satisfied: urllib3<3,>=1.21.1 in /mnt/arkk/hf-agents-course/unit-two-frameworks/.venv/lib/python3.10/site-packages (from requests>=2.32.3->smolagents) (2.5.0)\n",
      "Requirement already satisfied: certifi>=2017.4.17 in /mnt/arkk/hf-agents-course/unit-two-frameworks/.venv/lib/python3.10/site-packages (from requests>=2.32.3->smolagents) (2025.6.15)\n",
      "Requirement already satisfied: markdown-it-py>=2.2.0 in /mnt/arkk/hf-agents-course/unit-two-frameworks/.venv/lib/python3.10/site-packages (from rich>=13.9.4->smolagents) (3.0.0)\n",
      "Requirement already satisfied: pygments<3.0.0,>=2.13.0 in /mnt/arkk/hf-agents-course/unit-two-frameworks/.venv/lib/python3.10/site-packages (from rich>=13.9.4->smolagents) (2.19.2)\n",
      "Requirement already satisfied: mdurl~=0.1 in /mnt/arkk/hf-agents-course/unit-two-frameworks/.venv/lib/python3.10/site-packages (from markdown-it-py>=2.2.0->rich>=13.9.4->smolagents) (0.1.2)\n"
     ]
    }
   ],
   "source": [
    "!pip install smolagents -U"
   ]
  },
  {
   "cell_type": "markdown",
   "metadata": {
    "id": "cH-4W1GhYL4T"
   },
   "source": [
    "Let's also login to the Hugging Face Hub to have access to the Inference API."
   ]
  },
  {
   "cell_type": "code",
   "execution_count": 2,
   "metadata": {
    "id": "TFTc-ry70y1f"
   },
   "outputs": [
    {
     "name": "stderr",
     "output_type": "stream",
     "text": [
      "Note: Environment variable`HF_TOKEN` is set and is the current active token independently from the token you've just configured.\n"
     ]
    }
   ],
   "source": [
    "import os\n",
    "from huggingface_hub import login\n",
    "\n",
    "login(new_session=False, token=os.getenv(\"HF_TOKEN\"))"
   ]
  },
  {
   "cell_type": "code",
   "execution_count": 3,
   "metadata": {},
   "outputs": [
    {
     "name": "stdout",
     "output_type": "stream",
     "text": [
      "Logged in as: gperdrizet\n"
     ]
    }
   ],
   "source": [
    "user = !huggingface-cli whoami\n",
    "username = user[0]\n",
    "print(f\"Logged in as: {username}\")"
   ]
  },
  {
   "cell_type": "markdown",
   "metadata": {
    "id": "ekKxaZrd1HlB"
   },
   "source": [
    "## Selecting a Playlist for the Party Using `smolagents` and a `ToolCallingAgent`\n",
    "\n",
    "Let's revisit the previous example where Alfred started party preparations, but this time we'll use a `ToolCallingAgent` to highlight the difference. We'll build an agent that can search the web using DuckDuckGo, just like in our Code Agent example. The only difference is the agent type - the framework handles everything else:"
   ]
  },
  {
   "cell_type": "code",
   "execution_count": 4,
   "metadata": {
    "colab": {
     "base_uri": "https://localhost:8080/",
     "height": 1000
    },
    "id": "6IInDOUN01sP",
    "outputId": "e49f2360-d377-4ed8-b7ae-8da4a3e3757b"
   },
   "outputs": [
    {
     "data": {
      "text/html": [
       "<pre style=\"white-space:pre;overflow-x:auto;line-height:normal;font-family:Menlo,'DejaVu Sans Mono',consolas,'Courier New',monospace\"><span style=\"color: #d4b702; text-decoration-color: #d4b702\">╭──────────────────────────────────────────────────── </span><span style=\"color: #d4b702; text-decoration-color: #d4b702; font-weight: bold\">New run</span><span style=\"color: #d4b702; text-decoration-color: #d4b702\"> ────────────────────────────────────────────────────╮</span>\n",
       "<span style=\"color: #d4b702; text-decoration-color: #d4b702\">│</span>                                                                                                                 <span style=\"color: #d4b702; text-decoration-color: #d4b702\">│</span>\n",
       "<span style=\"color: #d4b702; text-decoration-color: #d4b702\">│</span> <span style=\"font-weight: bold\">Search for the best music recommendations for a party at the Wayne's mansion.</span>                                   <span style=\"color: #d4b702; text-decoration-color: #d4b702\">│</span>\n",
       "<span style=\"color: #d4b702; text-decoration-color: #d4b702\">│</span>                                                                                                                 <span style=\"color: #d4b702; text-decoration-color: #d4b702\">│</span>\n",
       "<span style=\"color: #d4b702; text-decoration-color: #d4b702\">╰─ InferenceClientModel - Qwen/Qwen2.5-Coder-32B-Instruct ────────────────────────────────────────────────────────╯</span>\n",
       "</pre>\n"
      ],
      "text/plain": [
       "\u001b[38;2;212;183;2m╭─\u001b[0m\u001b[38;2;212;183;2m───────────────────────────────────────────────────\u001b[0m\u001b[38;2;212;183;2m \u001b[0m\u001b[1;38;2;212;183;2mNew run\u001b[0m\u001b[38;2;212;183;2m \u001b[0m\u001b[38;2;212;183;2m───────────────────────────────────────────────────\u001b[0m\u001b[38;2;212;183;2m─╮\u001b[0m\n",
       "\u001b[38;2;212;183;2m│\u001b[0m                                                                                                                 \u001b[38;2;212;183;2m│\u001b[0m\n",
       "\u001b[38;2;212;183;2m│\u001b[0m \u001b[1mSearch for the best music recommendations for a party at the Wayne's mansion.\u001b[0m                                   \u001b[38;2;212;183;2m│\u001b[0m\n",
       "\u001b[38;2;212;183;2m│\u001b[0m                                                                                                                 \u001b[38;2;212;183;2m│\u001b[0m\n",
       "\u001b[38;2;212;183;2m╰─\u001b[0m\u001b[38;2;212;183;2m InferenceClientModel - Qwen/Qwen2.5-Coder-32B-Instruct \u001b[0m\u001b[38;2;212;183;2m───────────────────────────────────────────────────────\u001b[0m\u001b[38;2;212;183;2m─╯\u001b[0m\n"
      ]
     },
     "metadata": {},
     "output_type": "display_data"
    },
    {
     "data": {
      "text/html": [
       "<pre style=\"white-space:pre;overflow-x:auto;line-height:normal;font-family:Menlo,'DejaVu Sans Mono',consolas,'Courier New',monospace\"><span style=\"color: #d4b702; text-decoration-color: #d4b702\">━━━━━━━━━━━━━━━━━━━━━━━━━━━━━━━━━━━━━━━━━━━━━━━━━━━━━ </span><span style=\"font-weight: bold\">Step </span><span style=\"color: #008080; text-decoration-color: #008080; font-weight: bold\">1</span><span style=\"color: #d4b702; text-decoration-color: #d4b702\"> ━━━━━━━━━━━━━━━━━━━━━━━━━━━━━━━━━━━━━━━━━━━━━━━━━━━━━━</span>\n",
       "</pre>\n"
      ],
      "text/plain": [
       "\u001b[38;2;212;183;2m━━━━━━━━━━━━━━━━━━━━━━━━━━━━━━━━━━━━━━━━━━━━━━━━━━━━━ \u001b[0m\u001b[1mStep \u001b[0m\u001b[1;36m1\u001b[0m\u001b[38;2;212;183;2m ━━━━━━━━━━━━━━━━━━━━━━━━━━━━━━━━━━━━━━━━━━━━━━━━━━━━━━\u001b[0m\n"
      ]
     },
     "metadata": {},
     "output_type": "display_data"
    },
    {
     "data": {
      "text/html": [
       "<pre style=\"white-space:pre;overflow-x:auto;line-height:normal;font-family:Menlo,'DejaVu Sans Mono',consolas,'Courier New',monospace\">╭─────────────────────────────────────────────────────────────────────────────────────────────────────────────────╮\n",
       "│ Calling tool: 'web_search' with arguments: {'query': \"best music recommendations for a party at Wayne's         │\n",
       "│ mansion\"}                                                                                                       │\n",
       "╰─────────────────────────────────────────────────────────────────────────────────────────────────────────────────╯\n",
       "</pre>\n"
      ],
      "text/plain": [
       "╭─────────────────────────────────────────────────────────────────────────────────────────────────────────────────╮\n",
       "│ Calling tool: 'web_search' with arguments: {'query': \"best music recommendations for a party at Wayne's         │\n",
       "│ mansion\"}                                                                                                       │\n",
       "╰─────────────────────────────────────────────────────────────────────────────────────────────────────────────────╯\n"
      ]
     },
     "metadata": {},
     "output_type": "display_data"
    },
    {
     "data": {
      "text/html": [
       "<pre style=\"white-space:pre;overflow-x:auto;line-height:normal;font-family:Menlo,'DejaVu Sans Mono',consolas,'Courier New',monospace\">Observations: ## Search Results\n",
       "\n",
       "|The <span style=\"color: #008080; text-decoration-color: #008080; font-weight: bold\">75</span> Best Party Songs That Will Get Everyone Dancing - \n",
       "Gear4music<span style=\"font-weight: bold\">](</span><span style=\"color: #0000ff; text-decoration-color: #0000ff; text-decoration: underline\">https://www.gear4music.com/blog/best-party-songs/)</span>\n",
       "The best party songs <span style=\"color: #008080; text-decoration-color: #008080; font-weight: bold\">1</span>. <span style=\"color: #008000; text-decoration-color: #008000\">\"September\"</span> - Earth, Wind &amp; Fire <span style=\"font-weight: bold\">(</span><span style=\"color: #008080; text-decoration-color: #008080; font-weight: bold\">1978</span><span style=\"font-weight: bold\">)</span> Quite possibly the best party song. An infectious \n",
       "mix of funk and soul, <span style=\"color: #008000; text-decoration-color: #008000\">\"September\"</span> is celebrated for its upbeat melody and <span style=\"color: #008000; text-decoration-color: #008000\">\"ba-dee-ya\"</span> chorus, making it a timeless \n",
       "dance favorite.\n",
       "\n",
       "|late nights in the wayne manor part <span style=\"color: #008080; text-decoration-color: #008080; font-weight: bold\">2</span> | a bruce wayne rock/blues <span style=\"color: #808000; text-decoration-color: #808000\">...</span><span style=\"font-weight: bold\">](</span><span style=\"color: #0000ff; text-decoration-color: #0000ff; text-decoration: underline\">https://www.youtube.com/watch?v=DBRSHk2XpmU)</span>\n",
       "these are songs that bruce wayne listens to while wandering the halls of the great wayne manor. this is part <span style=\"color: #008080; text-decoration-color: #008080; font-weight: bold\">2.</span>find\n",
       "this playlist on my spotify: <span style=\"color: #0000ff; text-decoration-color: #0000ff; text-decoration: underline\">https://open...</span>\n",
       "\n",
       "|Best Songs To Party: DJ's Ultimate Party Songs Playlist - \n",
       "Top40Weekly.com<span style=\"font-weight: bold\">](</span><span style=\"color: #0000ff; text-decoration-color: #0000ff; text-decoration: underline\">https://top40weekly.com/best-songs-to-party/)</span>\n",
       "Don't forget the music! We've compiled the best songs to party that are sure to get everyone in the mood to dance \n",
       "and have a good time. Skip to content. Search for: <span style=\"color: #008080; text-decoration-color: #008080; font-weight: bold\">1950</span>. Top Songs from <span style=\"color: #008080; text-decoration-color: #008080; font-weight: bold\">1955</span>; Top Songs of <span style=\"color: #008080; text-decoration-color: #008080; font-weight: bold\">1956</span>; Top Songs of <span style=\"color: #008080; text-decoration-color: #008080; font-weight: bold\">1957</span>;\n",
       "Top Songs of <span style=\"color: #008080; text-decoration-color: #008080; font-weight: bold\">1958</span>; Top Songs of <span style=\"color: #008080; text-decoration-color: #008080; font-weight: bold\">1959</span>; 1950s Playlists; <span style=\"color: #008080; text-decoration-color: #008080; font-weight: bold\">1960</span>. Top Songs from <span style=\"color: #008080; text-decoration-color: #008080; font-weight: bold\">1960</span>;\n",
       "\n",
       "|The <span style=\"color: #008080; text-decoration-color: #008080; font-weight: bold\">50</span> Best Music Playlists for Parties |<span style=\"color: #008080; text-decoration-color: #008080; font-weight: bold\">2025</span><span style=\"font-weight: bold\">]</span> - Playlist \n",
       "Names<span style=\"font-weight: bold\">](</span><span style=\"color: #0000ff; text-decoration-color: #0000ff; text-decoration: underline\">https://www.playlistnames.org/best-music-playlists-for-parties/)</span>\n",
       "Creating the perfect party playlist is an art form! Here's what you need to consider: <span style=\"color: #008080; text-decoration-color: #008080; font-weight: bold\">1</span>. Flow and Energy. Start \n",
       "Slow: Begin with some chill tracks to set the mood. Build Up: Gradually increase the tempo and energy as the night \n",
       "progresses. Peak Time: Hit them with the bangers during the peak of the party to keep everyone dancing! <span style=\"color: #008080; text-decoration-color: #008080; font-weight: bold\">2</span>. Audience\n",
       "Engagement\n",
       "\n",
       "|<span style=\"color: #008080; text-decoration-color: #008080; font-weight: bold\">50</span> Songs on Every Event Planner's Playlist - \n",
       "Eventbrite<span style=\"font-weight: bold\">](</span><span style=\"color: #0000ff; text-decoration-color: #0000ff; text-decoration: underline\">https://www.eventbrite.com/blog/event-planning-playlist-ds00/)</span>\n",
       "Music sets the mood and provides the soundtrack <span style=\"font-weight: bold\">(</span>literally<span style=\"font-weight: bold\">)</span> for a memorable and exciting time. While the right \n",
       "songs can enhance the experience, the wrong event music can throw off the vibe. For example, fast-paced songs \n",
       "probably aren't the best fit for a formal gala. And smooth jazz is likely to lull your guests at a motivational \n",
       "conference.\n",
       "\n",
       "|<span style=\"color: #008080; text-decoration-color: #008080; font-weight: bold\">40</span> Best Party Songs | Songs To Dance To, Ranked By Our Editors - Time \n",
       "Out<span style=\"font-weight: bold\">](</span><span style=\"color: #0000ff; text-decoration-color: #0000ff; text-decoration: underline\">https://www.timeout.com/music/best-party-songs)</span>\n",
       "The <span style=\"color: #008080; text-decoration-color: #008080; font-weight: bold\">40</span> best party songs ever made. It's party time guys - don your dancing shoes and have your speaker at the \n",
       "ready. Monday <span style=\"color: #008080; text-decoration-color: #008080; font-weight: bold\">12</span> May <span style=\"color: #008080; text-decoration-color: #008080; font-weight: bold\">2025</span>. Share. Copy Link. Facebook Twitter Pinterest Email <span style=\"color: #808000; text-decoration-color: #808000\">...</span>\n",
       "\n",
       "|Similar Songs Finder | Spotify Playlist Generator - Chosic<span style=\"font-weight: bold\">](</span><span style=\"color: #0000ff; text-decoration-color: #0000ff; text-decoration: underline\">https://www.chosic.com/playlist-generator/)</span>\n",
       "Need to find similar songs to a song you like? To music you love? A playlist created for you in seconds! With \n",
       "Spotify Playlist Generator online tool, create awesome playlists in seconds, featuring similar songs to those you \n",
       "love. Whether by songs, artists, genres, moods, or based on a playlist, just start with what you have in mind, and \n",
       "it will provide you with plenty of song recommendations <span style=\"color: #808000; text-decoration-color: #808000\">...</span>\n",
       "\n",
       "|<span style=\"color: #008080; text-decoration-color: #008080; font-weight: bold\">100</span> Best Party Songs: The Ultimate Party Playlist<span style=\"font-weight: bold\">](</span><span style=\"color: #0000ff; text-decoration-color: #0000ff; text-decoration: underline\">https://audiocaptain.com/best-party-songs/)</span>\n",
       "Best 2000s Party Songs. Stylistically speaking, music that dominated the charts in the 2000s was nondescript.. \n",
       "There was not much new regarding musical directions. Club and hip hop dominated the charts while indie acts and \n",
       "some rock groups still had influence.\n",
       "\n",
       "|Party Music Guide: Ultimate Tips for the Perfect \n",
       "Playlist<span style=\"font-weight: bold\">](</span><span style=\"color: #0000ff; text-decoration-color: #0000ff; text-decoration: underline\">https://thebackstage-deezer.com/music/perfect-party-music-playlist/)</span>\n",
       "Check out the best party playlists and top party songs to ensure your next party is packed! The most popular party \n",
       "songs are here, just hit play. <span style=\"color: #808000; text-decoration-color: #808000\">...</span> to decor. But, most of all, you need to have fantastic music. We recommend you \n",
       "get at least three hours' worth of party music queued and ready — that's about <span style=\"color: #008080; text-decoration-color: #008080; font-weight: bold\">75</span> songs. Lucky for you, we've <span style=\"color: #808000; text-decoration-color: #808000\">...</span>\n",
       "\n",
       "|late nights in the wayne manor - YouTube Music<span style=\"font-weight: bold\">](</span><span style=\"color: #0000ff; text-decoration-color: #0000ff; text-decoration: underline\">https://music.youtube.com/watch?v=oOdHCjj3jn4)</span>\n",
       "these are songs that bruce wayne listens to while wandering the halls of the great wayne manor. find this playlist \n",
       "on my spotify: <span style=\"color: #0000ff; text-decoration-color: #0000ff; text-decoration: underline\">https://open.spotify.com/u...</span>\n",
       "</pre>\n"
      ],
      "text/plain": [
       "Observations: ## Search Results\n",
       "\n",
       "|The \u001b[1;36m75\u001b[0m Best Party Songs That Will Get Everyone Dancing - \n",
       "Gear4music\u001b[1m]\u001b[0m\u001b[1m(\u001b[0m\u001b[4;94mhttps://www.gear4music.com/blog/best-party-songs/\u001b[0m\u001b[4;94m)\u001b[0m\n",
       "The best party songs \u001b[1;36m1\u001b[0m. \u001b[32m\"September\"\u001b[0m - Earth, Wind & Fire \u001b[1m(\u001b[0m\u001b[1;36m1978\u001b[0m\u001b[1m)\u001b[0m Quite possibly the best party song. An infectious \n",
       "mix of funk and soul, \u001b[32m\"September\"\u001b[0m is celebrated for its upbeat melody and \u001b[32m\"ba-dee-ya\"\u001b[0m chorus, making it a timeless \n",
       "dance favorite.\n",
       "\n",
       "|late nights in the wayne manor part \u001b[1;36m2\u001b[0m | a bruce wayne rock/blues \u001b[33m...\u001b[0m\u001b[1m]\u001b[0m\u001b[1m(\u001b[0m\u001b[4;94mhttps://www.youtube.com/watch?\u001b[0m\u001b[4;94mv\u001b[0m\u001b[4;94m=\u001b[0m\u001b[4;94mDBRSHk2XpmU\u001b[0m\u001b[4;94m)\u001b[0m\n",
       "these are songs that bruce wayne listens to while wandering the halls of the great wayne manor. this is part \u001b[1;36m2.\u001b[0mfind\n",
       "this playlist on my spotify: \u001b[4;94mhttps://open...\u001b[0m\n",
       "\n",
       "|Best Songs To Party: DJ's Ultimate Party Songs Playlist - \n",
       "Top40Weekly.com\u001b[1m]\u001b[0m\u001b[1m(\u001b[0m\u001b[4;94mhttps://top40weekly.com/best-songs-to-party/\u001b[0m\u001b[4;94m)\u001b[0m\n",
       "Don't forget the music! We've compiled the best songs to party that are sure to get everyone in the mood to dance \n",
       "and have a good time. Skip to content. Search for: \u001b[1;36m1950\u001b[0m. Top Songs from \u001b[1;36m1955\u001b[0m; Top Songs of \u001b[1;36m1956\u001b[0m; Top Songs of \u001b[1;36m1957\u001b[0m;\n",
       "Top Songs of \u001b[1;36m1958\u001b[0m; Top Songs of \u001b[1;36m1959\u001b[0m; 1950s Playlists; \u001b[1;36m1960\u001b[0m. Top Songs from \u001b[1;36m1960\u001b[0m;\n",
       "\n",
       "|The \u001b[1;36m50\u001b[0m Best Music Playlists for Parties |\u001b[1;36m2025\u001b[0m\u001b[1m]\u001b[0m - Playlist \n",
       "Names\u001b[1m]\u001b[0m\u001b[1m(\u001b[0m\u001b[4;94mhttps://www.playlistnames.org/best-music-playlists-for-parties/\u001b[0m\u001b[4;94m)\u001b[0m\n",
       "Creating the perfect party playlist is an art form! Here's what you need to consider: \u001b[1;36m1\u001b[0m. Flow and Energy. Start \n",
       "Slow: Begin with some chill tracks to set the mood. Build Up: Gradually increase the tempo and energy as the night \n",
       "progresses. Peak Time: Hit them with the bangers during the peak of the party to keep everyone dancing! \u001b[1;36m2\u001b[0m. Audience\n",
       "Engagement\n",
       "\n",
       "|\u001b[1;36m50\u001b[0m Songs on Every Event Planner's Playlist - \n",
       "Eventbrite\u001b[1m]\u001b[0m\u001b[1m(\u001b[0m\u001b[4;94mhttps://www.eventbrite.com/blog/event-planning-playlist-ds00/\u001b[0m\u001b[4;94m)\u001b[0m\n",
       "Music sets the mood and provides the soundtrack \u001b[1m(\u001b[0mliterally\u001b[1m)\u001b[0m for a memorable and exciting time. While the right \n",
       "songs can enhance the experience, the wrong event music can throw off the vibe. For example, fast-paced songs \n",
       "probably aren't the best fit for a formal gala. And smooth jazz is likely to lull your guests at a motivational \n",
       "conference.\n",
       "\n",
       "|\u001b[1;36m40\u001b[0m Best Party Songs | Songs To Dance To, Ranked By Our Editors - Time \n",
       "Out\u001b[1m]\u001b[0m\u001b[1m(\u001b[0m\u001b[4;94mhttps://www.timeout.com/music/best-party-songs\u001b[0m\u001b[4;94m)\u001b[0m\n",
       "The \u001b[1;36m40\u001b[0m best party songs ever made. It's party time guys - don your dancing shoes and have your speaker at the \n",
       "ready. Monday \u001b[1;36m12\u001b[0m May \u001b[1;36m2025\u001b[0m. Share. Copy Link. Facebook Twitter Pinterest Email \u001b[33m...\u001b[0m\n",
       "\n",
       "|Similar Songs Finder | Spotify Playlist Generator - Chosic\u001b[1m]\u001b[0m\u001b[1m(\u001b[0m\u001b[4;94mhttps://www.chosic.com/playlist-generator/\u001b[0m\u001b[4;94m)\u001b[0m\n",
       "Need to find similar songs to a song you like? To music you love? A playlist created for you in seconds! With \n",
       "Spotify Playlist Generator online tool, create awesome playlists in seconds, featuring similar songs to those you \n",
       "love. Whether by songs, artists, genres, moods, or based on a playlist, just start with what you have in mind, and \n",
       "it will provide you with plenty of song recommendations \u001b[33m...\u001b[0m\n",
       "\n",
       "|\u001b[1;36m100\u001b[0m Best Party Songs: The Ultimate Party Playlist\u001b[1m]\u001b[0m\u001b[1m(\u001b[0m\u001b[4;94mhttps://audiocaptain.com/best-party-songs/\u001b[0m\u001b[4;94m)\u001b[0m\n",
       "Best 2000s Party Songs. Stylistically speaking, music that dominated the charts in the 2000s was nondescript.. \n",
       "There was not much new regarding musical directions. Club and hip hop dominated the charts while indie acts and \n",
       "some rock groups still had influence.\n",
       "\n",
       "|Party Music Guide: Ultimate Tips for the Perfect \n",
       "Playlist\u001b[1m]\u001b[0m\u001b[1m(\u001b[0m\u001b[4;94mhttps://thebackstage-deezer.com/music/perfect-party-music-playlist/\u001b[0m\u001b[4;94m)\u001b[0m\n",
       "Check out the best party playlists and top party songs to ensure your next party is packed! The most popular party \n",
       "songs are here, just hit play. \u001b[33m...\u001b[0m to decor. But, most of all, you need to have fantastic music. We recommend you \n",
       "get at least three hours' worth of party music queued and ready — that's about \u001b[1;36m75\u001b[0m songs. Lucky for you, we've \u001b[33m...\u001b[0m\n",
       "\n",
       "|late nights in the wayne manor - YouTube Music\u001b[1m]\u001b[0m\u001b[1m(\u001b[0m\u001b[4;94mhttps://music.youtube.com/watch?\u001b[0m\u001b[4;94mv\u001b[0m\u001b[4;94m=\u001b[0m\u001b[4;94moOdHCjj3jn4\u001b[0m\u001b[4;94m)\u001b[0m\n",
       "these are songs that bruce wayne listens to while wandering the halls of the great wayne manor. find this playlist \n",
       "on my spotify: \u001b[4;94mhttps://open.spotify.com/u...\u001b[0m\n"
      ]
     },
     "metadata": {},
     "output_type": "display_data"
    },
    {
     "data": {
      "text/html": [
       "<pre style=\"white-space:pre;overflow-x:auto;line-height:normal;font-family:Menlo,'DejaVu Sans Mono',consolas,'Courier New',monospace\"><span style=\"color: #7f7f7f; text-decoration-color: #7f7f7f\">[Step 1: Duration 2.61 seconds| Input tokens: 1,190 | Output tokens: 32]</span>\n",
       "</pre>\n"
      ],
      "text/plain": [
       "\u001b[2m[Step 1: Duration 2.61 seconds| Input tokens: 1,190 | Output tokens: 32]\u001b[0m\n"
      ]
     },
     "metadata": {},
     "output_type": "display_data"
    },
    {
     "data": {
      "text/html": [
       "<pre style=\"white-space:pre;overflow-x:auto;line-height:normal;font-family:Menlo,'DejaVu Sans Mono',consolas,'Courier New',monospace\"><span style=\"color: #d4b702; text-decoration-color: #d4b702\">━━━━━━━━━━━━━━━━━━━━━━━━━━━━━━━━━━━━━━━━━━━━━━━━━━━━━ </span><span style=\"font-weight: bold\">Step </span><span style=\"color: #008080; text-decoration-color: #008080; font-weight: bold\">2</span><span style=\"color: #d4b702; text-decoration-color: #d4b702\"> ━━━━━━━━━━━━━━━━━━━━━━━━━━━━━━━━━━━━━━━━━━━━━━━━━━━━━━</span>\n",
       "</pre>\n"
      ],
      "text/plain": [
       "\u001b[38;2;212;183;2m━━━━━━━━━━━━━━━━━━━━━━━━━━━━━━━━━━━━━━━━━━━━━━━━━━━━━ \u001b[0m\u001b[1mStep \u001b[0m\u001b[1;36m2\u001b[0m\u001b[38;2;212;183;2m ━━━━━━━━━━━━━━━━━━━━━━━━━━━━━━━━━━━━━━━━━━━━━━━━━━━━━━\u001b[0m\n"
      ]
     },
     "metadata": {},
     "output_type": "display_data"
    },
    {
     "data": {
      "text/html": [
       "<pre style=\"white-space:pre;overflow-x:auto;line-height:normal;font-family:Menlo,'DejaVu Sans Mono',consolas,'Courier New',monospace\">╭─────────────────────────────────────────────────────────────────────────────────────────────────────────────────╮\n",
       "│ Calling tool: 'final_answer' with arguments: {}                                                                 │\n",
       "╰─────────────────────────────────────────────────────────────────────────────────────────────────────────────────╯\n",
       "</pre>\n"
      ],
      "text/plain": [
       "╭─────────────────────────────────────────────────────────────────────────────────────────────────────────────────╮\n",
       "│ Calling tool: 'final_answer' with arguments: {}                                                                 │\n",
       "╰─────────────────────────────────────────────────────────────────────────────────────────────────────────────────╯\n"
      ]
     },
     "metadata": {},
     "output_type": "display_data"
    },
    {
     "data": {
      "text/html": [
       "<pre style=\"white-space:pre;overflow-x:auto;line-height:normal;font-family:Menlo,'DejaVu Sans Mono',consolas,'Courier New',monospace\"><span style=\"color: #800000; text-decoration-color: #800000; font-weight: bold\">Invalid call to tool </span><span style=\"color: #008000; text-decoration-color: #008000\">'final_answer'</span><span style=\"color: #800000; text-decoration-color: #800000; font-weight: bold\"> with arguments {}: </span><span style=\"color: #800080; text-decoration-color: #800080; font-weight: bold\">FinalAnswerTool.forward</span><span style=\"color: #800000; text-decoration-color: #800000; font-weight: bold\">() missing </span><span style=\"color: #008080; text-decoration-color: #008080; font-weight: bold\">1</span><span style=\"color: #800000; text-decoration-color: #800000; font-weight: bold\"> required positional </span>\n",
       "<span style=\"color: #800000; text-decoration-color: #800000; font-weight: bold\">argument: </span><span style=\"color: #008000; text-decoration-color: #008000\">'answer'</span>\n",
       "<span style=\"color: #800000; text-decoration-color: #800000; font-weight: bold\">You should call this tool with correct input arguments.</span>\n",
       "<span style=\"color: #800000; text-decoration-color: #800000; font-weight: bold\">Expected inputs: {</span><span style=\"color: #008000; text-decoration-color: #008000\">\"answer\"</span><span style=\"color: #800000; text-decoration-color: #800000; font-weight: bold\">: {</span><span style=\"color: #008000; text-decoration-color: #008000\">\"type\"</span><span style=\"color: #800000; text-decoration-color: #800000; font-weight: bold\">: </span><span style=\"color: #008000; text-decoration-color: #008000\">\"any\"</span><span style=\"color: #800000; text-decoration-color: #800000; font-weight: bold\">, </span><span style=\"color: #008000; text-decoration-color: #008000\">\"description\"</span><span style=\"color: #800000; text-decoration-color: #800000; font-weight: bold\">: </span><span style=\"color: #008000; text-decoration-color: #008000\">\"The final answer to the problem\"</span><span style=\"color: #800000; text-decoration-color: #800000; font-weight: bold\">}}</span>\n",
       "<span style=\"color: #800000; text-decoration-color: #800000; font-weight: bold\">Returns output type: any</span>\n",
       "<span style=\"color: #800000; text-decoration-color: #800000; font-weight: bold\">Tool description: </span><span style=\"color: #008000; text-decoration-color: #008000\">'Provides a final answer to the given problem.'</span>\n",
       "</pre>\n"
      ],
      "text/plain": [
       "\u001b[1;31mInvalid call to tool \u001b[0m\u001b[32m'final_answer'\u001b[0m\u001b[1;31m with arguments \u001b[0m\u001b[1;31m{\u001b[0m\u001b[1;31m}\u001b[0m\u001b[1;31m: \u001b[0m\u001b[1;35mFinalAnswerTool.forward\u001b[0m\u001b[1;31m(\u001b[0m\u001b[1;31m)\u001b[0m\u001b[1;31m missing \u001b[0m\u001b[1;36m1\u001b[0m\u001b[1;31m required positional \u001b[0m\n",
       "\u001b[1;31margument: \u001b[0m\u001b[32m'answer'\u001b[0m\n",
       "\u001b[1;31mYou should call this tool with correct input arguments.\u001b[0m\n",
       "\u001b[1;31mExpected inputs: \u001b[0m\u001b[1;31m{\u001b[0m\u001b[32m\"answer\"\u001b[0m\u001b[1;31m: \u001b[0m\u001b[1;31m{\u001b[0m\u001b[32m\"type\"\u001b[0m\u001b[1;31m: \u001b[0m\u001b[32m\"any\"\u001b[0m\u001b[1;31m, \u001b[0m\u001b[32m\"description\"\u001b[0m\u001b[1;31m: \u001b[0m\u001b[32m\"The final answer to the problem\"\u001b[0m\u001b[1;31m}\u001b[0m\u001b[1;31m}\u001b[0m\n",
       "\u001b[1;31mReturns output type: any\u001b[0m\n",
       "\u001b[1;31mTool description: \u001b[0m\u001b[32m'Provides a final answer to the given problem.'\u001b[0m\n"
      ]
     },
     "metadata": {},
     "output_type": "display_data"
    },
    {
     "data": {
      "text/html": [
       "<pre style=\"white-space:pre;overflow-x:auto;line-height:normal;font-family:Menlo,'DejaVu Sans Mono',consolas,'Courier New',monospace\"><span style=\"color: #7f7f7f; text-decoration-color: #7f7f7f\">[Step 2: Duration 4.38 seconds| Input tokens: 3,470 | Output tokens: 380]</span>\n",
       "</pre>\n"
      ],
      "text/plain": [
       "\u001b[2m[Step 2: Duration 4.38 seconds| Input tokens: 3,470 | Output tokens: 380]\u001b[0m\n"
      ]
     },
     "metadata": {},
     "output_type": "display_data"
    },
    {
     "data": {
      "text/html": [
       "<pre style=\"white-space:pre;overflow-x:auto;line-height:normal;font-family:Menlo,'DejaVu Sans Mono',consolas,'Courier New',monospace\"><span style=\"color: #d4b702; text-decoration-color: #d4b702\">━━━━━━━━━━━━━━━━━━━━━━━━━━━━━━━━━━━━━━━━━━━━━━━━━━━━━ </span><span style=\"font-weight: bold\">Step </span><span style=\"color: #008080; text-decoration-color: #008080; font-weight: bold\">3</span><span style=\"color: #d4b702; text-decoration-color: #d4b702\"> ━━━━━━━━━━━━━━━━━━━━━━━━━━━━━━━━━━━━━━━━━━━━━━━━━━━━━━</span>\n",
       "</pre>\n"
      ],
      "text/plain": [
       "\u001b[38;2;212;183;2m━━━━━━━━━━━━━━━━━━━━━━━━━━━━━━━━━━━━━━━━━━━━━━━━━━━━━ \u001b[0m\u001b[1mStep \u001b[0m\u001b[1;36m3\u001b[0m\u001b[38;2;212;183;2m ━━━━━━━━━━━━━━━━━━━━━━━━━━━━━━━━━━━━━━━━━━━━━━━━━━━━━━\u001b[0m\n"
      ]
     },
     "metadata": {},
     "output_type": "display_data"
    },
    {
     "data": {
      "text/html": [
       "<pre style=\"white-space:pre;overflow-x:auto;line-height:normal;font-family:Menlo,'DejaVu Sans Mono',consolas,'Courier New',monospace\">╭─────────────────────────────────────────────────────────────────────────────────────────────────────────────────╮\n",
       "│ Calling tool: 'final_answer' with arguments: {}                                                                 │\n",
       "╰─────────────────────────────────────────────────────────────────────────────────────────────────────────────────╯\n",
       "</pre>\n"
      ],
      "text/plain": [
       "╭─────────────────────────────────────────────────────────────────────────────────────────────────────────────────╮\n",
       "│ Calling tool: 'final_answer' with arguments: {}                                                                 │\n",
       "╰─────────────────────────────────────────────────────────────────────────────────────────────────────────────────╯\n"
      ]
     },
     "metadata": {},
     "output_type": "display_data"
    },
    {
     "data": {
      "text/html": [
       "<pre style=\"white-space:pre;overflow-x:auto;line-height:normal;font-family:Menlo,'DejaVu Sans Mono',consolas,'Courier New',monospace\"><span style=\"color: #800000; text-decoration-color: #800000; font-weight: bold\">Invalid call to tool </span><span style=\"color: #008000; text-decoration-color: #008000\">'final_answer'</span><span style=\"color: #800000; text-decoration-color: #800000; font-weight: bold\"> with arguments {}: </span><span style=\"color: #800080; text-decoration-color: #800080; font-weight: bold\">FinalAnswerTool.forward</span><span style=\"color: #800000; text-decoration-color: #800000; font-weight: bold\">() missing </span><span style=\"color: #008080; text-decoration-color: #008080; font-weight: bold\">1</span><span style=\"color: #800000; text-decoration-color: #800000; font-weight: bold\"> required positional </span>\n",
       "<span style=\"color: #800000; text-decoration-color: #800000; font-weight: bold\">argument: </span><span style=\"color: #008000; text-decoration-color: #008000\">'answer'</span>\n",
       "<span style=\"color: #800000; text-decoration-color: #800000; font-weight: bold\">You should call this tool with correct input arguments.</span>\n",
       "<span style=\"color: #800000; text-decoration-color: #800000; font-weight: bold\">Expected inputs: {</span><span style=\"color: #008000; text-decoration-color: #008000\">\"answer\"</span><span style=\"color: #800000; text-decoration-color: #800000; font-weight: bold\">: {</span><span style=\"color: #008000; text-decoration-color: #008000\">\"type\"</span><span style=\"color: #800000; text-decoration-color: #800000; font-weight: bold\">: </span><span style=\"color: #008000; text-decoration-color: #008000\">\"any\"</span><span style=\"color: #800000; text-decoration-color: #800000; font-weight: bold\">, </span><span style=\"color: #008000; text-decoration-color: #008000\">\"description\"</span><span style=\"color: #800000; text-decoration-color: #800000; font-weight: bold\">: </span><span style=\"color: #008000; text-decoration-color: #008000\">\"The final answer to the problem\"</span><span style=\"color: #800000; text-decoration-color: #800000; font-weight: bold\">}}</span>\n",
       "<span style=\"color: #800000; text-decoration-color: #800000; font-weight: bold\">Returns output type: any</span>\n",
       "<span style=\"color: #800000; text-decoration-color: #800000; font-weight: bold\">Tool description: </span><span style=\"color: #008000; text-decoration-color: #008000\">'Provides a final answer to the given problem.'</span>\n",
       "</pre>\n"
      ],
      "text/plain": [
       "\u001b[1;31mInvalid call to tool \u001b[0m\u001b[32m'final_answer'\u001b[0m\u001b[1;31m with arguments \u001b[0m\u001b[1;31m{\u001b[0m\u001b[1;31m}\u001b[0m\u001b[1;31m: \u001b[0m\u001b[1;35mFinalAnswerTool.forward\u001b[0m\u001b[1;31m(\u001b[0m\u001b[1;31m)\u001b[0m\u001b[1;31m missing \u001b[0m\u001b[1;36m1\u001b[0m\u001b[1;31m required positional \u001b[0m\n",
       "\u001b[1;31margument: \u001b[0m\u001b[32m'answer'\u001b[0m\n",
       "\u001b[1;31mYou should call this tool with correct input arguments.\u001b[0m\n",
       "\u001b[1;31mExpected inputs: \u001b[0m\u001b[1;31m{\u001b[0m\u001b[32m\"answer\"\u001b[0m\u001b[1;31m: \u001b[0m\u001b[1;31m{\u001b[0m\u001b[32m\"type\"\u001b[0m\u001b[1;31m: \u001b[0m\u001b[32m\"any\"\u001b[0m\u001b[1;31m, \u001b[0m\u001b[32m\"description\"\u001b[0m\u001b[1;31m: \u001b[0m\u001b[32m\"The final answer to the problem\"\u001b[0m\u001b[1;31m}\u001b[0m\u001b[1;31m}\u001b[0m\n",
       "\u001b[1;31mReturns output type: any\u001b[0m\n",
       "\u001b[1;31mTool description: \u001b[0m\u001b[32m'Provides a final answer to the given problem.'\u001b[0m\n"
      ]
     },
     "metadata": {},
     "output_type": "display_data"
    },
    {
     "data": {
      "text/html": [
       "<pre style=\"white-space:pre;overflow-x:auto;line-height:normal;font-family:Menlo,'DejaVu Sans Mono',consolas,'Courier New',monospace\"><span style=\"color: #7f7f7f; text-decoration-color: #7f7f7f\">[Step 3: Duration 5.37 seconds| Input tokens: 5,857 | Output tokens: 834]</span>\n",
       "</pre>\n"
      ],
      "text/plain": [
       "\u001b[2m[Step 3: Duration 5.37 seconds| Input tokens: 5,857 | Output tokens: 834]\u001b[0m\n"
      ]
     },
     "metadata": {},
     "output_type": "display_data"
    },
    {
     "data": {
      "text/html": [
       "<pre style=\"white-space:pre;overflow-x:auto;line-height:normal;font-family:Menlo,'DejaVu Sans Mono',consolas,'Courier New',monospace\"><span style=\"color: #d4b702; text-decoration-color: #d4b702\">━━━━━━━━━━━━━━━━━━━━━━━━━━━━━━━━━━━━━━━━━━━━━━━━━━━━━ </span><span style=\"font-weight: bold\">Step </span><span style=\"color: #008080; text-decoration-color: #008080; font-weight: bold\">4</span><span style=\"color: #d4b702; text-decoration-color: #d4b702\"> ━━━━━━━━━━━━━━━━━━━━━━━━━━━━━━━━━━━━━━━━━━━━━━━━━━━━━━</span>\n",
       "</pre>\n"
      ],
      "text/plain": [
       "\u001b[38;2;212;183;2m━━━━━━━━━━━━━━━━━━━━━━━━━━━━━━━━━━━━━━━━━━━━━━━━━━━━━ \u001b[0m\u001b[1mStep \u001b[0m\u001b[1;36m4\u001b[0m\u001b[38;2;212;183;2m ━━━━━━━━━━━━━━━━━━━━━━━━━━━━━━━━━━━━━━━━━━━━━━━━━━━━━━\u001b[0m\n"
      ]
     },
     "metadata": {},
     "output_type": "display_data"
    },
    {
     "data": {
      "text/html": [
       "<pre style=\"white-space:pre;overflow-x:auto;line-height:normal;font-family:Menlo,'DejaVu Sans Mono',consolas,'Courier New',monospace\">╭─────────────────────────────────────────────────────────────────────────────────────────────────────────────────╮\n",
       "│ Calling tool: 'final_answer' with arguments: {'answer': \"Here is a mix of popular party songs and Wayne's       │\n",
       "│ mansion-themed tracks to create the perfect playlist for your party: 1. 'September' - Earth, Wind &amp; Fire, 2.    │\n",
       "│ 'Sweet Child O' Mine' - Guns N' Roses, 3. 'Uptown Funk' - Mark Ronson ft. Bruno Mars, 4. 'Billie Jean' -        │\n",
       "│ Michael Jackson, 5. 'I Wanna Dance with Somebody (Who Loves Me)' - Whitney Houston, 6. 'Shake It Off' - Taylor  │\n",
       "│ Swift, 7. 'Don't Stop Believin'' - Journey, 8. 'Like a Prayer' - Madonna, 9. 'Stayin' Alive' - Bee Gees, 10.    │\n",
       "│ 'Shape of You' - Ed Sheeran, 11. 'Bohemian Rhapsody' - Queen, 12. 'I Will Survive' - Gloria Gaynor, 13.         │\n",
       "│ 'Celebration' - Kool &amp; the Gang, 14. 'I Gotta Feeling' - The Black Eyed Peas, 15. 'Roar' - Katy Perry, 16. 'The │\n",
       "│ Joker' - The Dark Knight, 17. 'The Dark Knight' - Hans Zimmer, 18. 'The Batman Theme' - Neal Hefti, 19. 'The    │\n",
       "│ Dark Knight Rises' - Hans Zimmer, 20. 'The Joker's Theme' - The Dark Knight.\"}                                  │\n",
       "╰─────────────────────────────────────────────────────────────────────────────────────────────────────────────────╯\n",
       "</pre>\n"
      ],
      "text/plain": [
       "╭─────────────────────────────────────────────────────────────────────────────────────────────────────────────────╮\n",
       "│ Calling tool: 'final_answer' with arguments: {'answer': \"Here is a mix of popular party songs and Wayne's       │\n",
       "│ mansion-themed tracks to create the perfect playlist for your party: 1. 'September' - Earth, Wind & Fire, 2.    │\n",
       "│ 'Sweet Child O' Mine' - Guns N' Roses, 3. 'Uptown Funk' - Mark Ronson ft. Bruno Mars, 4. 'Billie Jean' -        │\n",
       "│ Michael Jackson, 5. 'I Wanna Dance with Somebody (Who Loves Me)' - Whitney Houston, 6. 'Shake It Off' - Taylor  │\n",
       "│ Swift, 7. 'Don't Stop Believin'' - Journey, 8. 'Like a Prayer' - Madonna, 9. 'Stayin' Alive' - Bee Gees, 10.    │\n",
       "│ 'Shape of You' - Ed Sheeran, 11. 'Bohemian Rhapsody' - Queen, 12. 'I Will Survive' - Gloria Gaynor, 13.         │\n",
       "│ 'Celebration' - Kool & the Gang, 14. 'I Gotta Feeling' - The Black Eyed Peas, 15. 'Roar' - Katy Perry, 16. 'The │\n",
       "│ Joker' - The Dark Knight, 17. 'The Dark Knight' - Hans Zimmer, 18. 'The Batman Theme' - Neal Hefti, 19. 'The    │\n",
       "│ Dark Knight Rises' - Hans Zimmer, 20. 'The Joker's Theme' - The Dark Knight.\"}                                  │\n",
       "╰─────────────────────────────────────────────────────────────────────────────────────────────────────────────────╯\n"
      ]
     },
     "metadata": {},
     "output_type": "display_data"
    },
    {
     "data": {
      "text/html": [
       "<pre style=\"white-space:pre;overflow-x:auto;line-height:normal;font-family:Menlo,'DejaVu Sans Mono',consolas,'Courier New',monospace\"><span style=\"color: #d4b702; text-decoration-color: #d4b702; font-weight: bold\">Final answer: Here is a mix of popular party songs and Wayne's mansion-themed tracks to create the perfect playlist</span>\n",
       "<span style=\"color: #d4b702; text-decoration-color: #d4b702; font-weight: bold\">for your party: 1. 'September' - Earth, Wind &amp; Fire, 2. 'Sweet Child O' Mine' - Guns N' Roses, 3. 'Uptown Funk' - </span>\n",
       "<span style=\"color: #d4b702; text-decoration-color: #d4b702; font-weight: bold\">Mark Ronson ft. Bruno Mars, 4. 'Billie Jean' - Michael Jackson, 5. 'I Wanna Dance with Somebody (Who Loves Me)' - </span>\n",
       "<span style=\"color: #d4b702; text-decoration-color: #d4b702; font-weight: bold\">Whitney Houston, 6. 'Shake It Off' - Taylor Swift, 7. 'Don't Stop Believin'' - Journey, 8. 'Like a Prayer' - </span>\n",
       "<span style=\"color: #d4b702; text-decoration-color: #d4b702; font-weight: bold\">Madonna, 9. 'Stayin' Alive' - Bee Gees, 10. 'Shape of You' - Ed Sheeran, 11. 'Bohemian Rhapsody' - Queen, 12. 'I </span>\n",
       "<span style=\"color: #d4b702; text-decoration-color: #d4b702; font-weight: bold\">Will Survive' - Gloria Gaynor, 13. 'Celebration' - Kool &amp; the Gang, 14. 'I Gotta Feeling' - The Black Eyed Peas, </span>\n",
       "<span style=\"color: #d4b702; text-decoration-color: #d4b702; font-weight: bold\">15. 'Roar' - Katy Perry, 16. 'The Joker' - The Dark Knight, 17. 'The Dark Knight' - Hans Zimmer, 18. 'The Batman </span>\n",
       "<span style=\"color: #d4b702; text-decoration-color: #d4b702; font-weight: bold\">Theme' - Neal Hefti, 19. 'The Dark Knight Rises' - Hans Zimmer, 20. 'The Joker's Theme' - The Dark Knight.</span>\n",
       "</pre>\n"
      ],
      "text/plain": [
       "\u001b[1;38;2;212;183;2mFinal answer: Here is a mix of popular party songs and Wayne's mansion-themed tracks to create the perfect playlist\u001b[0m\n",
       "\u001b[1;38;2;212;183;2mfor your party: 1. 'September' - Earth, Wind & Fire, 2. 'Sweet Child O' Mine' - Guns N' Roses, 3. 'Uptown Funk' - \u001b[0m\n",
       "\u001b[1;38;2;212;183;2mMark Ronson ft. Bruno Mars, 4. 'Billie Jean' - Michael Jackson, 5. 'I Wanna Dance with Somebody (Who Loves Me)' - \u001b[0m\n",
       "\u001b[1;38;2;212;183;2mWhitney Houston, 6. 'Shake It Off' - Taylor Swift, 7. 'Don't Stop Believin'' - Journey, 8. 'Like a Prayer' - \u001b[0m\n",
       "\u001b[1;38;2;212;183;2mMadonna, 9. 'Stayin' Alive' - Bee Gees, 10. 'Shape of You' - Ed Sheeran, 11. 'Bohemian Rhapsody' - Queen, 12. 'I \u001b[0m\n",
       "\u001b[1;38;2;212;183;2mWill Survive' - Gloria Gaynor, 13. 'Celebration' - Kool & the Gang, 14. 'I Gotta Feeling' - The Black Eyed Peas, \u001b[0m\n",
       "\u001b[1;38;2;212;183;2m15. 'Roar' - Katy Perry, 16. 'The Joker' - The Dark Knight, 17. 'The Dark Knight' - Hans Zimmer, 18. 'The Batman \u001b[0m\n",
       "\u001b[1;38;2;212;183;2mTheme' - Neal Hefti, 19. 'The Dark Knight Rises' - Hans Zimmer, 20. 'The Joker's Theme' - The Dark Knight.\u001b[0m\n"
      ]
     },
     "metadata": {},
     "output_type": "display_data"
    },
    {
     "data": {
      "text/html": [
       "<pre style=\"white-space:pre;overflow-x:auto;line-height:normal;font-family:Menlo,'DejaVu Sans Mono',consolas,'Courier New',monospace\"><span style=\"color: #7f7f7f; text-decoration-color: #7f7f7f\">[Step 4: Duration 12.12 seconds| Input tokens: 8,351 | Output tokens: 1,880]</span>\n",
       "</pre>\n"
      ],
      "text/plain": [
       "\u001b[2m[Step 4: Duration 12.12 seconds| Input tokens: 8,351 | Output tokens: 1,880]\u001b[0m\n"
      ]
     },
     "metadata": {},
     "output_type": "display_data"
    },
    {
     "data": {
      "text/plain": [
       "\"Here is a mix of popular party songs and Wayne's mansion-themed tracks to create the perfect playlist for your party: 1. 'September' - Earth, Wind & Fire, 2. 'Sweet Child O' Mine' - Guns N' Roses, 3. 'Uptown Funk' - Mark Ronson ft. Bruno Mars, 4. 'Billie Jean' - Michael Jackson, 5. 'I Wanna Dance with Somebody (Who Loves Me)' - Whitney Houston, 6. 'Shake It Off' - Taylor Swift, 7. 'Don't Stop Believin'' - Journey, 8. 'Like a Prayer' - Madonna, 9. 'Stayin' Alive' - Bee Gees, 10. 'Shape of You' - Ed Sheeran, 11. 'Bohemian Rhapsody' - Queen, 12. 'I Will Survive' - Gloria Gaynor, 13. 'Celebration' - Kool & the Gang, 14. 'I Gotta Feeling' - The Black Eyed Peas, 15. 'Roar' - Katy Perry, 16. 'The Joker' - The Dark Knight, 17. 'The Dark Knight' - Hans Zimmer, 18. 'The Batman Theme' - Neal Hefti, 19. 'The Dark Knight Rises' - Hans Zimmer, 20. 'The Joker's Theme' - The Dark Knight.\""
      ]
     },
     "execution_count": 4,
     "metadata": {},
     "output_type": "execute_result"
    }
   ],
   "source": [
    "from smolagents import ToolCallingAgent, DuckDuckGoSearchTool, InferenceClientModel\n",
    "\n",
    "agent = ToolCallingAgent(tools=[DuckDuckGoSearchTool()], model=InferenceClientModel())\n",
    "\n",
    "agent.run(\"Search for the best music recommendations for a party at the Wayne's mansion.\")"
   ]
  },
  {
   "cell_type": "markdown",
   "metadata": {
    "id": "Cl19VWGRYXrr"
   },
   "source": [
    "\n",
    "When you examine the agent's trace, instead of seeing `Executing parsed code:`, you'll see something like:\n",
    "\n",
    "```text\n",
    "╭─────────────────────────────────────────────────────────────────────────────────────────────────────────────────╮\n",
    "│ Calling tool: 'web_search' with arguments: {'query': \"best music recommendations for a party at Wayne's         │\n",
    "│ mansion\"}                                                                                                       │\n",
    "╰─────────────────────────────────────────────────────────────────────────────────────────────────────────────────╯\n",
    "```  \n",
    "\n",
    "The agent generates a structured tool call that the system processes to produce the output, rather than directly executing code like a `CodeAgent`.\n",
    "\n",
    "Now that we understand both agent types, we can choose the right one for our needs. Let's continue exploring `smolagents` to make Alfred's party a success! 🎉"
   ]
  }
 ],
 "metadata": {
  "colab": {
   "provenance": []
  },
  "kernelspec": {
   "display_name": ".venv",
   "language": "python",
   "name": "python3"
  },
  "language_info": {
   "codemirror_mode": {
    "name": "ipython",
    "version": 3
   },
   "file_extension": ".py",
   "mimetype": "text/x-python",
   "name": "python",
   "nbconvert_exporter": "python",
   "pygments_lexer": "ipython3",
   "version": "3.10.18"
  }
 },
 "nbformat": 4,
 "nbformat_minor": 0
}
